{
 "cells": [
  {
   "cell_type": "markdown",
   "metadata": {},
   "source": [
    "## Class \n",
    "\n",
    "\n",
    "* Python is an object oriented programming language.\n",
    "* Almost everything in Python is an object, with its properties and methods.\n",
    "* A Class is like an object constructor, or a \"blueprint\" for creating objects.\n"
   ]
  },
  {
   "cell_type": "markdown",
   "metadata": {},
   "source": [
    "#### Create a Class\n",
    "To create a class, use the keyword **class**:\n",
    "Create a class named MyClass, with a property named x:\n"
   ]
  },
  {
   "cell_type": "code",
   "execution_count": 1,
   "metadata": {},
   "outputs": [],
   "source": [
    "class MyClass: # mycalss is class name \n",
    "  x = 5  #class variable"
   ]
  },
  {
   "cell_type": "code",
   "execution_count": 6,
   "metadata": {},
   "outputs": [
    {
     "name": "stdout",
     "output_type": "stream",
     "text": [
      "2000\n",
      "python\n"
     ]
    }
   ],
   "source": [
    "class  Animal: \n",
    "\n",
    "#     # class variable \n",
    "    name = 'Eleaphant'\n",
    "    weight = 2000 \n",
    "    age = 25\n",
    "    #     # function vs method \n",
    "    def display(self):  #self as keyword \n",
    "        print(self.weight)\n",
    "\n",
    "\n",
    "\n",
    "\n",
    "animal_obj=Animal()\n",
    "animal_obj.display()\n",
    "# animal_obj.name  # create a obj \n",
    "# animal_obj.name\n",
    "# print(animal_obj.name)\n",
    "\n",
    "# animal_objects1 = Animal()\n",
    "# animal_objects2 = Animal()\n",
    "\n",
    "\n",
    "animal_obj.name = \"python\"\n",
    "print(animal_obj.name)\n",
    "\n",
    "# print(animal_objects2.name)"
   ]
  },
  {
   "cell_type": "code",
   "execution_count": null,
   "metadata": {},
   "outputs": [],
   "source": [
    "class Harsh:\n",
    "    def hello(self):\n",
    "        print(\"hello\")\n",
    "\n",
    "        "
   ]
  }
 ],
 "metadata": {
  "kernelspec": {
   "display_name": "Python 3",
   "language": "python",
   "name": "python3"
  },
  "language_info": {
   "codemirror_mode": {
    "name": "ipython",
    "version": 3
   },
   "file_extension": ".py",
   "mimetype": "text/x-python",
   "name": "python",
   "nbconvert_exporter": "python",
   "pygments_lexer": "ipython3",
   "version": "3.12.4"
  }
 },
 "nbformat": 4,
 "nbformat_minor": 2
}
