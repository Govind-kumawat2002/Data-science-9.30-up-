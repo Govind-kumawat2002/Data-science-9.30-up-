{
 "cells": [
  {
   "cell_type": "markdown",
   "metadata": {},
   "source": [
    "## Python os Module\n",
    "* Python has a built-in os module with methods for interacting with the operating system, like creating files and directories, management of files and directories, input, output, environment variables, process management, etc.\n",
    "\n",
    "* The **Os Module** has the following set of methods and constants."
   ]
  },
  {
   "cell_type": "markdown",
   "metadata": {},
   "source": [
    "#### Getting the current  working directory"
   ]
  },
  {
   "cell_type": "code",
   "execution_count": 6,
   "metadata": {},
   "outputs": [
    {
     "name": "stdout",
     "output_type": "stream",
     "text": [
      "current working directory C:\\Users\\kumaw\\OneDrive\\Desktop\n"
     ]
    }
   ],
   "source": [
    "import os # Operting system \n",
    "cwd=os.getcwd() \n",
    "# cwd=os.getcwd()\n",
    "print(\"current working directory\",cwd)"
   ]
  },
  {
   "cell_type": "markdown",
   "metadata": {},
   "source": [
    "#### Change the current working directory "
   ]
  },
  {
   "cell_type": "code",
   "execution_count": 12,
   "metadata": {},
   "outputs": [
    {
     "name": "stdout",
     "output_type": "stream",
     "text": [
      "change worrking dir None\n",
      "C:\\Users\\kumaw\\OneDrive\n"
     ]
    }
   ],
   "source": [
    "# chdir change dir\n",
    "cwd = os.chdir(r'C:\\Users\\kumaw\\OneDrive')\n",
    "print(\"change worrking dir\",cwd) \n",
    "print(os.getcwd())\n",
    "\n",
    "\n"
   ]
  },
  {
   "cell_type": "markdown",
   "metadata": {},
   "source": [
    "### listing file in directory"
   ]
  },
  {
   "cell_type": "code",
   "execution_count": 14,
   "metadata": {},
   "outputs": [
    {
     "name": "stdout",
     "output_type": "stream",
     "text": [
      "total file in folder ['classification.ipynb', 'DATASET', 'decsion_tree.ipynb', 'hello.py', 'hellofe.py', 'image', 'inheritance.ipynb', 'linear-model.lb', 'linear_regration01.ipynb', 'linear_regration011.ipynb', 'Machine_learning.ipynb', 'mje.ipynb', 'model.lb', 'practics', 'random_forest.ipynb', 'save.py', 'seaborn_practics.ipynb']\n"
     ]
    },
    {
     "data": {
      "text/plain": [
       "['classification.ipynb',\n",
       " 'DATASET',\n",
       " 'decsion_tree.ipynb',\n",
       " 'hello.py',\n",
       " 'hellofe.py',\n",
       " 'image',\n",
       " 'inheritance.ipynb',\n",
       " 'linear-model.lb',\n",
       " 'linear_regration01.ipynb',\n",
       " 'linear_regration011.ipynb',\n",
       " 'Machine_learning.ipynb',\n",
       " 'mje.ipynb',\n",
       " 'model.lb',\n",
       " 'practics',\n",
       " 'random_forest.ipynb',\n",
       " 'save.py',\n",
       " 'seaborn_practics.ipynb']"
      ]
     },
     "execution_count": 14,
     "metadata": {},
     "output_type": "execute_result"
    }
   ],
   "source": [
    "file = os.listdir(r\"E:\\Python_Library\\Machine_learning\")\n",
    "print(\"total file in folder\",file)\n",
    "file\n",
    "\n"
   ]
  },
  {
   "cell_type": "markdown",
   "metadata": {},
   "source": [
    "### Create a Directory"
   ]
  },
  {
   "cell_type": "code",
   "execution_count": 17,
   "metadata": {},
   "outputs": [
    {
     "name": "stdout",
     "output_type": "stream",
     "text": [
      "Done\n"
     ]
    }
   ],
   "source": [
    "os.mkdir(r\"E:\\OFFICE TRIP\\hello\")\n",
    "print(\"Done\")"
   ]
  },
  {
   "cell_type": "markdown",
   "metadata": {},
   "source": [
    "#### Removing a Directory"
   ]
  },
  {
   "cell_type": "code",
   "execution_count": 18,
   "metadata": {},
   "outputs": [
    {
     "name": "stdout",
     "output_type": "stream",
     "text": [
      "Done\n"
     ]
    }
   ],
   "source": [
    "os.rmdir(r\"E:\\OFFICE TRIP\\hello\")\n",
    "print(\"Done\")"
   ]
  },
  {
   "cell_type": "markdown",
   "metadata": {},
   "source": [
    "### Joining path "
   ]
  },
  {
   "cell_type": "code",
   "execution_count": 20,
   "metadata": {},
   "outputs": [
    {
     "name": "stdout",
     "output_type": "stream",
     "text": [
      "joining path  E:\\Python_Library\\Machine_learning\n"
     ]
    }
   ],
   "source": [
    "path = os.path.join(r\"E:\\Python_Library\",'Machine_learning')\n",
    "print(\"joining path \",path)"
   ]
  },
  {
   "cell_type": "code",
   "execution_count": null,
   "metadata": {},
   "outputs": [],
   "source": []
  }
 ],
 "metadata": {
  "kernelspec": {
   "display_name": "Python 3",
   "language": "python",
   "name": "python3"
  },
  "language_info": {
   "codemirror_mode": {
    "name": "ipython",
    "version": 3
   },
   "file_extension": ".py",
   "mimetype": "text/x-python",
   "name": "python",
   "nbconvert_exporter": "python",
   "pygments_lexer": "ipython3",
   "version": "3.12.4"
  }
 },
 "nbformat": 4,
 "nbformat_minor": 2
}
