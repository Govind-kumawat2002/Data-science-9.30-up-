{
 "cells": [
  {
   "cell_type": "markdown",
   "metadata": {},
   "source": [
    "## Python Functions -->\n",
    "A function is a block of code which only runs when it is called.\n",
    "\n",
    "You can pass data, known as parameters, into a function.\n",
    "\n",
    "A function can return data as a result.\n",
    "\n",
    "In Python a function is defined using the **def** keyword:"
   ]
  },
  {
   "cell_type": "code",
   "execution_count": 6,
   "metadata": {},
   "outputs": [
    {
     "data": {
      "text/plain": [
       "complex"
      ]
     },
     "execution_count": 6,
     "metadata": {},
     "output_type": "execute_result"
    }
   ],
   "source": [
    "def my_function():\n",
    "  print(\"Hello from a function\")\n",
    "\n",
    "\n",
    "\n",
    "\n",
    "\n",
    "\n",
    "\n",
    "\n",
    "\n",
    "\n",
    "\n",
    "  # add \n",
    "  # sub\n",
    "  # mul \n",
    "  # did\n",
    "\n",
    "  # block of code \n",
    "  print(\"Hello from a function\")\n",
    "# a  = \"hello\"\n",
    "# type(a)\n",
    "\n",
    "\n",
    "\n",
    "# a = [1,2]\n",
    "# type(a)\n",
    "\n",
    "# a = 2\n",
    "# type(a)\n",
    "# a = 3.1\n",
    "# type(a)\n",
    "# a = 4 +5j\n",
    "# type(a)\n"
   ]
  },
  {
   "cell_type": "code",
   "execution_count": 2,
   "metadata": {},
   "outputs": [
    {
     "name": "stdout",
     "output_type": "stream",
     "text": [
      "Hello from a function\n",
      "hello hii byyy \n"
     ]
    }
   ],
   "source": [
    "# calling a function \n",
    "\n",
    "def my_function():  # my_function is function name\n",
    "  print(\"Hello from a function\")\n",
    "  print(\"hello hii byyy \")\n",
    "\n",
    "my_function()"
   ]
  },
  {
   "cell_type": "markdown",
   "metadata": {},
   "source": [
    "### Arguments\n",
    "Information can be passed into functions as arguments.\n",
    "\n",
    "Arguments are specified after the function name, inside the parentheses. You can add as many arguments as you want, just separate them with a comma.\n",
    "\n",
    "The following example has a function with one argument (fname). When the function is called, we pass along a first name, which is used inside the function to print the full name:"
   ]
  },
  {
   "cell_type": "code",
   "execution_count": 4,
   "metadata": {},
   "outputs": [
    {
     "name": "stdout",
     "output_type": "stream",
     "text": [
      "Emil,Refsnes\n",
      "Tobias,Refsnes\n",
      "Linus,Refsnes\n"
     ]
    }
   ],
   "source": [
    "def my_function(fname):\n",
    "    # this is argguments \n",
    "  # print(fname)\n",
    "  print(fname +\",\"+\"Refsnes\")\n",
    "\n",
    "my_function(\"Emil\")\n",
    "my_function(\"Tobias\")\n",
    "my_function(\"Linus\")"
   ]
  },
  {
   "cell_type": "markdown",
   "metadata": {},
   "source": [
    "## Number of Arguments\n",
    "\n",
    "By default, a function must be called with the correct number of arguments. Meaning that if your function expects 2 arguments, you have to call the function with 2 arguments, not more, and not less."
   ]
  },
  {
   "cell_type": "code",
   "execution_count": 5,
   "metadata": {},
   "outputs": [
    {
     "name": "stdout",
     "output_type": "stream",
     "text": [
      "Emil  ++++++ hello \n"
     ]
    }
   ],
   "source": [
    "#This function expects 2 arguments, and gets 2 arguments:\n",
    "\n",
    "def my_function(fname, lname):\n",
    "  print(fname + \"  ++++++ \" + lname)\n",
    "\n",
    "my_function(\"Emil\",\"hello \")\n",
    "# my_function(fname='email',lname='hello')"
   ]
  },
  {
   "cell_type": "markdown",
   "metadata": {},
   "source": [
    "If you try to call the function with 1 or 3 arguments, you will get an error:\n"
   ]
  },
  {
   "cell_type": "code",
   "execution_count": 8,
   "metadata": {},
   "outputs": [
    {
     "ename": "TypeError",
     "evalue": "my_function() missing 1 required positional argument: 'lname'",
     "output_type": "error",
     "traceback": [
      "\u001b[1;31m---------------------------------------------------------------------------\u001b[0m",
      "\u001b[1;31mTypeError\u001b[0m                                 Traceback (most recent call last)",
      "Cell \u001b[1;32mIn[8], line 4\u001b[0m\n\u001b[0;32m      1\u001b[0m \u001b[38;5;28;01mdef\u001b[39;00m \u001b[38;5;21mmy_function\u001b[39m(fname, lname):\n\u001b[0;32m      2\u001b[0m   \u001b[38;5;28mprint\u001b[39m(fname \u001b[38;5;241m+\u001b[39m \u001b[38;5;124m\"\u001b[39m\u001b[38;5;124m \u001b[39m\u001b[38;5;124m\"\u001b[39m \u001b[38;5;241m+\u001b[39m lname)\n\u001b[1;32m----> 4\u001b[0m \u001b[43mmy_function\u001b[49m\u001b[43m(\u001b[49m\u001b[38;5;124;43m\"\u001b[39;49m\u001b[38;5;124;43mEmil\u001b[39;49m\u001b[38;5;124;43m\"\u001b[39;49m\u001b[43m)\u001b[49m\n",
      "\u001b[1;31mTypeError\u001b[0m: my_function() missing 1 required positional argument: 'lname'"
     ]
    }
   ],
   "source": [
    "def my_function(fname, lname):\n",
    "  print(fname + \" \" + lname)\n",
    "\n",
    "my_function(\"Emil\")"
   ]
  },
  {
   "cell_type": "markdown",
   "metadata": {},
   "source": [
    "#### Arbitrary Arguments, *args\n",
    "If you do not know how many arguments that will be passed into your function, add a * before the parameter name in the function definition.\n",
    "\n",
    "This way the function will receive a tuple of arguments, and can access the items accordingly:"
   ]
  },
  {
   "cell_type": "code",
   "execution_count": 9,
   "metadata": {},
   "outputs": [
    {
     "name": "stdout",
     "output_type": "stream",
     "text": [
      "The youngest child is Linus\n"
     ]
    }
   ],
   "source": [
    "# If the number of arguments is unknown, add a * before the parameter name:\n",
    "def my_function(*kids):\n",
    "  print(\"The youngest child is \" + kids[2])\n",
    "\n",
    "my_function(\"Emil\", \"Tobias\", \"Linus\")"
   ]
  },
  {
   "cell_type": "markdown",
   "metadata": {},
   "source": [
    "## Keyword Arguments\n",
    "You can also send arguments with the key = value syntax.\n",
    "\n",
    "This way the order of the arguments does not matter."
   ]
  },
  {
   "cell_type": "code",
   "execution_count": 10,
   "metadata": {},
   "outputs": [
    {
     "name": "stdout",
     "output_type": "stream",
     "text": [
      "The youngest child is Linus\n"
     ]
    }
   ],
   "source": [
    "def my_function(child3, child2, child1):\n",
    "  print(\"The youngest child is \" + child3)\n",
    "\n",
    "my_function(child1=\"Emil\",child2= \"Tobias\",child3= \"Linus\")"
   ]
  },
  {
   "cell_type": "markdown",
   "metadata": {},
   "source": [
    "#### Default Parameter Value\n",
    "The following example shows how to use a default parameter value.\n",
    "\n",
    "If we call the function without argument, it uses the default value:"
   ]
  },
  {
   "cell_type": "code",
   "execution_count": 12,
   "metadata": {},
   "outputs": [
    {
     "name": "stdout",
     "output_type": "stream",
     "text": [
      "I am from Sweden\n",
      "I am from India\n",
      "I am from Norway\n",
      "I am from Brazil\n",
      "I am from Norway\n",
      "I am from Norway\n"
     ]
    }
   ],
   "source": [
    "def my_function(country = \"Norway\"):\n",
    "  print(\"I am from \" + country)\n",
    "\n",
    "my_function(\"Sweden\") # function calling \n",
    "my_function(\"India\")\n",
    "my_function()\n",
    "my_function(\"Brazil\")\n",
    "my_function()\n",
    "my_function()"
   ]
  },
  {
   "cell_type": "code",
   "execution_count": 13,
   "metadata": {},
   "outputs": [
    {
     "name": "stdout",
     "output_type": "stream",
     "text": [
      "apple\n",
      "banana\n",
      "cherry\n"
     ]
    }
   ],
   "source": [
    "# Passing a List as an Argument\n",
    "\n",
    "# You can send any data types of argument to a function (string, number, list, dictionary etc.), and it will be treated as the same data type inside the function.\n",
    "\n",
    "# E.g. if you send a List as an argument, it will still be a List when it reaches the function:\n",
    "\n",
    "def my_function(food):\n",
    "  # \n",
    "  for x in food:\n",
    "    print(x)\n",
    "\n",
    "food = [\"apple\", \"banana\", \"cherry\"]\n",
    "\n",
    "\n",
    "my_function(food)\n",
    "\n",
    "\n",
    "def add(x,y):\n",
    "  print(x+y)\n",
    "add(1,2)\n",
    "def sub(x,y):\n",
    "  print(x-y)\n",
    "\n",
    "\n",
    "\n",
    "\n",
    "\n",
    "# add \n",
    "# sub \n",
    "# mul \n",
    "# div\n",
    "# Floor\n",
    "# power \n",
    "\n",
    "\n",
    "\n",
    "# pip instal\n",
    "\n",
    "\n",
    "\n",
    "\n",
    "\n",
    "\n",
    "# def my_function(food):\n",
    "#   for x in food:\n",
    "#     print(x)\n",
    "\n",
    "# food = [\"apple\", \"banana\", \"cherry\"]\n",
    "\n",
    "# my_function(food)"
   ]
  },
  {
   "cell_type": "code",
   "execution_count": 29,
   "metadata": {},
   "outputs": [],
   "source": [
    "\n",
    "# def my_function(a):\n",
    "#     for x in a.item():\n",
    "#         print(x)\n",
    "# my_function(a)\n",
    "# a = {'name':\"Ritik\", \"cls\": 12,\"Aera\": \"kuchaman city\"}\n",
    "# for x in a.keys():\n",
    "#     print(x)\n",
    "\n",
    "# print(a.keys())\n",
    "# print(a.values())\n",
    "# print(a.items())\n",
    "\n",
    "\n",
    "# ([('name', 'Ritik'), ('cls', 12), ('Aera', 'kuchaman city')])\n",
    "# for x in a.items():\n",
    "#     print(x)\n",
    "\n",
    "\n",
    "\n",
    "# def hello(a):\n",
    "#     for s in a :\n",
    "#         print(s)\n",
    "\n",
    "\n",
    "\n",
    "# a = [\"heelo\",\"baby\"]\n",
    "# # hello(a)\n",
    "# lambda :\n",
    "# what is lambda function in python \n",
    "# and used \n",
    "# []\n",
    "# a = {\"name \": \"govind\",\"company\":\"upflairs\"}\n",
    "# for x in a.items():\n",
    "#     print(x)\n"
   ]
  },
  {
   "cell_type": "code",
   "execution_count": 3,
   "metadata": {},
   "outputs": [
    {
     "name": "stdout",
     "output_type": "stream",
     "text": [
      "80\n"
     ]
    }
   ],
   "source": [
    "\n",
    "# a lambda function is a small anonymous function defined using the lambda keyword. It can have any number of arguments but can only have one expression. Lambda functions are often used for short, throwaway functions where a full function definition would be unwieldy or unnecessary.\n",
    "# lambda  function in python \n",
    "# lambda as keyword hai \n",
    "\n",
    "\n",
    "a =  lambda a ,y: a *y  \n",
    "print(a(20,4))\n"
   ]
  },
  {
   "cell_type": "code",
   "execution_count": 4,
   "metadata": {},
   "outputs": [
    {
     "name": "stdout",
     "output_type": "stream",
     "text": [
      "5\n"
     ]
    }
   ],
   "source": [
    "a = lambda x ,y , z:x*y+z\n",
    "print(a(1,2,3))"
   ]
  },
  {
   "cell_type": "code",
   "execution_count": 2,
   "metadata": {},
   "outputs": [
    {
     "name": "stdout",
     "output_type": "stream",
     "text": [
      "12\n"
     ]
    }
   ],
   "source": [
    "# map()\n",
    "# lambda\n",
    "# filter 3\n",
    "# enumerate\n",
    "\n",
    "a = lambda x : x+10\n",
    "print(a(2))"
   ]
  },
  {
   "cell_type": "code",
   "execution_count": 31,
   "metadata": {},
   "outputs": [
    {
     "name": "stdout",
     "output_type": "stream",
     "text": [
      "10\n"
     ]
    }
   ],
   "source": [
    "a = lambda x,y: x*y\n",
    "print(a(2,5))"
   ]
  },
  {
   "cell_type": "code",
   "execution_count": 5,
   "metadata": {},
   "outputs": [
    {
     "name": "stderr",
     "output_type": "stream",
     "text": [
      "C:\\Users\\kumaw\\AppData\\Local\\Temp\\ipykernel_19960\\3306149918.py:5: DeprecationWarning: \n",
      "Pyarrow will become a required dependency of pandas in the next major release of pandas (pandas 3.0),\n",
      "(to allow more performant data types, such as the Arrow string type, and better interoperability with other libraries)\n",
      "but was not found to be installed on your system.\n",
      "If this would cause problems for you,\n",
      "please provide us feedback at https://github.com/pandas-dev/pandas/issues/54466\n",
      "        \n",
      "  import pandas as pd\n"
     ]
    }
   ],
   "source": [
    "# map()   pre define function hai \n",
    "# data set \n",
    "# pandas \n",
    "# import pandas as pd \n",
    "import pandas as pd\n",
    "\n"
   ]
  },
  {
   "cell_type": "code",
   "execution_count": 1,
   "metadata": {},
   "outputs": [
    {
     "name": "stdout",
     "output_type": "stream",
     "text": [
      "0 hello\n",
      "1 hii\n",
      "2 byy\n"
     ]
    }
   ],
   "source": [
    "# pic.png   . spilt\n",
    "#  \n",
    "a = ['hello','hii','byy']\n",
    "for x ,y in enumerate(a):\n",
    "    print(x,y)"
   ]
  },
  {
   "cell_type": "code",
   "execution_count": 21,
   "metadata": {},
   "outputs": [
    {
     "name": "stdout",
     "output_type": "stream",
     "text": [
      "0 ('name', 'govind')\n",
      "1 ('cls', '12')\n",
      "2 ('rollnumbera', '21eaycs055')\n"
     ]
    }
   ],
   "source": [
    "# df = pd.read_csv('laptopPrice.csv')\n",
    "# # print(df)\n",
    "# df\n",
    "# # df.head(10)\n",
    "# df.tail()\n",
    "# datafream=pd.read_csv('laptopPrice.csv')\n",
    "# print(df)\n",
    "# datafream\n",
    "# map char to int\n",
    "# zip \n",
    "# enumerate function    enumerate is a built-in function that adds a counter to an iterable and returns it as an enumerate object. This can be very useful when you need both the elements and their indices from an iterable.\n",
    "\n",
    "\n",
    "# dct1  ={'brand':'hp','gen':11,'ram_gb': '4 gb' }\n",
    "# for  x ,y in enumerate(dct1.items()):\n",
    "#     print(x,y)\n",
    "# a= ['harsh','love','lavesh']\n",
    "\n",
    "# for x,name  in  enumerate(a):\n",
    "\n",
    "#     print(x,name)\n",
    "\n",
    "\n",
    "# tpl = ('hello baby','hiii baby',\"byy baby\")\n",
    "# for x , y in enumerate(tpl):\n",
    "#     print(x,y)\n",
    "# govind.txt\n",
    "\n",
    "# map()\n",
    "dct = {'name': 'govind','cls':'12',\"rollnumbera\":'21eaycs055'}\n",
    "for keys , values in enumerate(dct.items()):\n",
    "    print(keys,values)\n",
    "\n",
    "\n"
   ]
  },
  {
   "cell_type": "code",
   "execution_count": null,
   "metadata": {},
   "outputs": [],
   "source": []
  },
  {
   "cell_type": "code",
   "execution_count": 39,
   "metadata": {},
   "outputs": [
    {
     "name": "stdout",
     "output_type": "stream",
     "text": [
      "ritik 0\n",
      "govind 1\n"
     ]
    }
   ],
   "source": [
    "# using enumerate with a list \n",
    "a = [ \"ritik\",\"govind\"]\n",
    "for name ,index  in enumerate(a):\n",
    "    print(index,name)"
   ]
  },
  {
   "cell_type": "code",
   "execution_count": 22,
   "metadata": {},
   "outputs": [],
   "source": [
    "# modul \n",
    "# # os , maths , regrex \n",
    "# modul \n",
    "# pandas\n",
    "# numpy \n",
    "# seaborn\n",
    "# matplotlib\n",
    "# skillearn \n",
    "# cv2 \n",
    "# touch \n",
    "# flaskj \n",
    "\n",
    "\n",
    "\n",
    "# import pandas as pd \n",
    "# pd.read_csv()\n",
    "\n"
   ]
  },
  {
   "cell_type": "code",
   "execution_count": null,
   "metadata": {},
   "outputs": [],
   "source": [
    "# modul and library \n",
    "\n",
    "# regrex\n",
    "# math"
   ]
  }
 ],
 "metadata": {
  "kernelspec": {
   "display_name": "Python 3",
   "language": "python",
   "name": "python3"
  },
  "language_info": {
   "codemirror_mode": {
    "name": "ipython",
    "version": 3
   },
   "file_extension": ".py",
   "mimetype": "text/x-python",
   "name": "python",
   "nbconvert_exporter": "python",
   "pygments_lexer": "ipython3",
   "version": "3.12.4"
  }
 },
 "nbformat": 4,
 "nbformat_minor": 2
}
