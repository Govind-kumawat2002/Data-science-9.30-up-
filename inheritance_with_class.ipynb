{
 "cells": [
  {
   "cell_type": "markdown",
   "metadata": {},
   "source": [
    "### Python Inheritance\n",
    "* Inheritance allows us to define a class that inherits all the methods and properties from another class.\n",
    "\n",
    "* Parent class is the class being inherited from, also called base class.\n",
    "\n",
    "* Child class is the class that inherits from another class, also called derived class.\n",
    "\n",
    "\n",
    "\n",
    "\n",
    "##### Create a Parent Class\n",
    "     Any class can be a parent class, so the syntax is the same as creating any other class:\n",
    "\n"
   ]
  },
  {
   "cell_type": "code",
   "execution_count": 1,
   "metadata": {},
   "outputs": [
    {
     "name": "stdout",
     "output_type": "stream",
     "text": [
      "John Doe\n",
      "Mike Olsen\n"
     ]
    }
   ],
   "source": [
    "# ExampleGet your own Python Server\n",
    "# Create a class named Person, with firstname and lastname properties, and a printname method:\n",
    "class Person:\n",
    "  def __init__(self, fname, lname):\n",
    "    self.firstname = fname\n",
    "    self.lastname = lname\n",
    "\n",
    "  def printname(self):\n",
    "    print(self.firstname, self.lastname)\n",
    "\n",
    "#Use the Person class to create an object, and then execute the printname method:\n",
    "\n",
    "x = Person(\"John\", \"Doe\")\n",
    "x.printname()\n",
    "\n",
    "\n",
    "# Create a Child Class\n",
    "# To create a class that inherits the functionality from another class, send the parent class as a parameter when creating the child class:\n",
    "# Example\n",
    "# Create a class named Student, which will inherit the properties and methods from the Person class:\n",
    "class Student(Person):\n",
    "  pass\n",
    "# Note: Use the pass keyword when you do not want to add any other properties or methods to the class\n",
    "# Now the Student class has the same properties and methods as the Person class.\n",
    "# Example\n",
    "# Use the Student class to create an object, and then execute the printname method:\n",
    "x = Student(\"Mike\", \"Olsen\")\n",
    "x.printname()"
   ]
  },
  {
   "cell_type": "code",
   "execution_count": 5,
   "metadata": {},
   "outputs": [
    {
     "ename": "SyntaxError",
     "evalue": "invalid syntax (3105394633.py, line 36)",
     "output_type": "error",
     "traceback": [
      "\u001b[1;36m  Cell \u001b[1;32mIn[5], line 36\u001b[1;36m\u001b[0m\n\u001b[1;33m    child_obj.\u001b[0m\n\u001b[1;37m              ^\u001b[0m\n\u001b[1;31mSyntaxError\u001b[0m\u001b[1;31m:\u001b[0m invalid syntax\n"
     ]
    }
   ],
   "source": [
    "class father():\n",
    "    fathet_name = \" Ram krishan ji \"\n",
    "    fathet_age = 45\n",
    "\n",
    "\n",
    "\n",
    "\n",
    "class child(father):\n",
    "\n",
    "    chilename = \"lavesh gujar\"\n",
    "\n",
    "a = child()\n",
    "print(a.fathet_age)\n",
    "\n",
    "\n",
    "\n",
    "\n",
    "# class olad(child):\n",
    "#     pass\n",
    "\n",
    "\n",
    "\n",
    "\n",
    "# class father:\n",
    "# # \n",
    "\n",
    "#     father_name = \" xyz\"\n",
    "#     father_age =54\n",
    "#     father_fese = 45662213546541351351\n",
    "#     account_number = 94276245325\n",
    "\n",
    "  \n",
    "# class child(father):\n",
    "\n",
    "# child_obj=child()\n",
    "# child_obj.\n",
    "\n",
    "\n",
    "\n"
   ]
  },
  {
   "cell_type": "code",
   "execution_count": 4,
   "metadata": {},
   "outputs": [],
   "source": [
    "# simple \n",
    "# multple \n",
    "# multilevel \n",
    "# herarical \n",
    "# hybrid "
   ]
  },
  {
   "cell_type": "code",
   "execution_count": 8,
   "metadata": {},
   "outputs": [
    {
     "name": "stdout",
     "output_type": "stream",
     "text": [
      "hello sir my account number is  94276245325\n",
      "None\n"
     ]
    }
   ],
   "source": [
    "class grand_father:\n",
    "    def __init__(self, grand_name ,g_account , g_age):\n",
    "        self.grand_name = grand_name\n",
    "        self.g_account = g_account\n",
    "        self.g_age = g_age\n",
    "    def grandfather_function(x):\n",
    "        print(\"grand father name \",x.grand_name)\n",
    "\n",
    "class father(grand_father):\n",
    "    def father_functoin(y):\n",
    "        father_name = \" xyz\"\n",
    "        father_age =54\n",
    "        father_fese = 45662213546541351351\n",
    "        account_number = 94276245325\n",
    "        print(\"hello sir my account number is \",account_number)\n",
    "\n",
    "  \n",
    "class child(grand_father,father):\n",
    "    pass\n",
    "\n",
    "\n",
    "\n",
    "child_obj=child(\"ganesh ji\",94175145151,96)\n",
    "print(child_obj.father_functoin())\n",
    "\n",
    "\n"
   ]
  },
  {
   "cell_type": "code",
   "execution_count": null,
   "metadata": {},
   "outputs": [],
   "source": []
  }
 ],
 "metadata": {
  "kernelspec": {
   "display_name": "Python 3",
   "language": "python",
   "name": "python3"
  },
  "language_info": {
   "codemirror_mode": {
    "name": "ipython",
    "version": 3
   },
   "file_extension": ".py",
   "mimetype": "text/x-python",
   "name": "python",
   "nbconvert_exporter": "python",
   "pygments_lexer": "ipython3",
   "version": "3.12.4"
  }
 },
 "nbformat": 4,
 "nbformat_minor": 2
}
