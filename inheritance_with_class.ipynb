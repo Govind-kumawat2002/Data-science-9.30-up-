{
 "cells": [
  {
   "cell_type": "markdown",
   "metadata": {},
   "source": [
    "### Python Inheritance\n",
    "* Inheritance allows us to define a class that inherits all the methods and properties from another class.\n",
    "\n",
    "* Parent class is the class being inherited from, also called base class.\n",
    "\n",
    "* Child class is the class that inherits from another class, also called derived class.\n",
    "\n",
    "\n",
    "\n",
    "\n",
    "##### Create a Parent Class\n",
    "     Any class can be a parent class, so the syntax is the same as creating any other class:\n",
    "\n"
   ]
  },
  {
   "cell_type": "code",
   "execution_count": null,
   "metadata": {},
   "outputs": [],
   "source": [
    "# ExampleGet your own Python Server\n",
    "# Create a class named Person, with firstname and lastname properties, and a printname method:\n",
    "class Person:\n",
    "  def __init__(self, fname, lname):\n",
    "    self.firstname = fname\n",
    "    self.lastname = lname\n",
    "\n",
    "  def printname(self):\n",
    "    print(self.firstname, self.lastname)\n",
    "\n",
    "#Use the Person class to create an object, and then execute the printname method:\n",
    "\n",
    "x = Person(\"John\", \"Doe\")\n",
    "x.printname()\n",
    "\n",
    "\n",
    "# Create a Child Class\n",
    "# To create a class that inherits the functionality from another class, send the parent class as a parameter when creating the child class:\n",
    "# Example\n",
    "# Create a class named Student, which will inherit the properties and methods from the Person class:\n",
    "class Student(Person):\n",
    "  pass\n",
    "# Note: Use the pass keyword when you do not want to add any other properties or methods to the class\n",
    "# Now the Student class has the same properties and methods as the Person class.\n",
    "# Example\n",
    "# Use the Student class to create an object, and then execute the printname method:\n",
    "x = Student(\"Mike\", \"Olsen\")\n",
    "x.printname()"
   ]
  }
 ],
 "metadata": {
  "language_info": {
   "name": "python"
  }
 },
 "nbformat": 4,
 "nbformat_minor": 2
}
